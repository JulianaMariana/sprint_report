{
 "cells": [
  {
   "cell_type": "markdown",
   "id": "88bcad4c-649a-43ba-81eb-b8cbc2708da4",
   "metadata": {},
   "source": [
    "# Sprint Report"
   ]
  },
  {
   "cell_type": "code",
   "execution_count": null,
   "id": "69d5d2f9-40b7-45c4-b4eb-bf6530579976",
   "metadata": {},
   "outputs": [],
   "source": [
    "# Enter the sprint name, should be the same name used in Jira\n",
    "\n",
    "sprint_name = \"\""
   ]
  },
  {
   "cell_type": "code",
   "execution_count": null,
   "id": "15b2359f-9355-482e-8486-9e51ed73b96e",
   "metadata": {},
   "outputs": [],
   "source": [
    "import sys\n",
    "sys.path.insert(0, '..')\n",
    "\n",
    "from datetime import datetime, timedelta\n",
    "import os\n",
    "import matplotlib.pyplot as plt\n",
    "import numpy as np\n",
    "import pandas as pd\n",
    "from unidecode import unidecode\n",
    "\n",
    "def color_col(col, pattern_map, default=''):\n",
    "    return np.select(\n",
    "        [col.str.contains(k, na=False) for k in pattern_map.keys()],\n",
    "        [f'background-color: {v}' for v in pattern_map.values()],\n",
    "        default=default\n",
    "    ).astype(str)"
   ]
  },
  {
   "cell_type": "code",
   "execution_count": null,
   "id": "492427a4-61d5-459c-a675-dc4f9a98b648",
   "metadata": {},
   "outputs": [],
   "source": [
    "from src.report import prepare_data, assignee_report, project_report, report_plots, read_files\n",
    "\n",
    "import importlib\n",
    "importlib.reload(prepare_data)\n",
    "importlib.reload(assignee_report)\n",
    "importlib.reload(project_report)\n",
    "importlib.reload(report_plots)\n",
    "importlib.reload(read_files)\n",
    "\n",
    "\n",
    "read_files.get_sprint_options()\n",
    "file_date = read_files.get_last_file(sprint_name)\n",
    "file_date"
   ]
  },
  {
   "cell_type": "code",
   "execution_count": null,
   "id": "26c35aa1-98e0-450d-9fb6-4ee4ddbfae9b",
   "metadata": {},
   "outputs": [],
   "source": [
    "from src.report import read_files\n",
    "importlib.reload(read_files)\n",
    "\n",
    "p_data, project_data, p_data_excel, ordered_data, weeks_time = read_files.get_report_data(sprint_name, file_date)"
   ]
  },
  {
   "cell_type": "markdown",
   "id": "9df0eed4-ddbc-4f3b-8b99-c657dc88216d",
   "metadata": {},
   "source": [
    "# Worklog por pessoas"
   ]
  },
  {
   "cell_type": "code",
   "execution_count": null,
   "id": "83adbd6c-992c-4d1c-b0d3-ed8f134e462a",
   "metadata": {},
   "outputs": [],
   "source": [
    "assignee_report.get_worklogs_by_assignee_col_dates(project_data)"
   ]
  },
  {
   "cell_type": "code",
   "execution_count": null,
   "id": "91d20fb9-faf8-46f2-aebb-1c4a4c4752b7",
   "metadata": {},
   "outputs": [],
   "source": [
    "report_plots.plot_histogram_hours(project_data)"
   ]
  },
  {
   "cell_type": "markdown",
   "id": "5a79b232-e75e-4ffb-a377-b962d0e9f5d4",
   "metadata": {},
   "source": [
    "# Project status"
   ]
  },
  {
   "cell_type": "code",
   "execution_count": null,
   "id": "623a0ba2-aede-45c3-b69b-4baf6d2b798c",
   "metadata": {},
   "outputs": [],
   "source": [
    "ordered_data.style.apply(color_col, pattern_map={'Done': 'forestgreen', 'Review': 'lightblue', 'In Progress': 'royalblue'}, subset=['Status'])"
   ]
  },
  {
   "cell_type": "code",
   "execution_count": null,
   "id": "9ce795e8-a4c4-4b9e-aed4-cec41a47bfd6",
   "metadata": {},
   "outputs": [],
   "source": [
    "report_plots.plot_num_status_percentage(ordered_data, sprint_name)"
   ]
  },
  {
   "cell_type": "markdown",
   "id": "03ddc85f-5765-438c-ac23-600bcf6f5224",
   "metadata": {},
   "source": [
    "# Assignee Report"
   ]
  },
  {
   "cell_type": "code",
   "execution_count": null,
   "id": "faa26c0a-bb36-42e3-ac0c-3b964efb1bc6",
   "metadata": {},
   "outputs": [],
   "source": [
    "# Enter the assignee name that what get the report\n",
    "assignee_name = \"\""
   ]
  },
  {
   "cell_type": "code",
   "execution_count": null,
   "id": "f3723c6c-e84f-4fac-b46c-572bf5a15249",
   "metadata": {},
   "outputs": [],
   "source": [
    "original_plan = p_data_excel.get_excel_plan()"
   ]
  },
  {
   "cell_type": "code",
   "execution_count": null,
   "id": "ea75c27f-4413-4149-bf0b-13582e8e2022",
   "metadata": {},
   "outputs": [],
   "source": [
    "assignee_data = assignee_report.get_assignee_table(ordered_data, assignee_name=assignee_name)\n",
    "assignee_data.style.apply(color_col, pattern_map={'Done': 'forestgreen', 'Review': 'lightblue', 'In Progress': 'royalblue'}, subset=['Status'])"
   ]
  },
  {
   "cell_type": "code",
   "execution_count": null,
   "id": "db44d926-dfd8-4ef5-a84f-750d1e672830",
   "metadata": {},
   "outputs": [],
   "source": [
    "from src.report import prepare_data, assignee_report, project_report, report_plots\n",
    "\n",
    "plot_assignee = report_plots.PlotAssigneeTimeline(assignee_data, original_plan, weeks_time[assignee_name].to_list())\n",
    "fig = plot_assignee.plot_timeline()"
   ]
  },
  {
   "cell_type": "code",
   "execution_count": null,
   "id": "7c12d34d-e267-4126-8d34-d2d572e986ee",
   "metadata": {},
   "outputs": [],
   "source": [
    "report_plots.plot_num_status_percentage(assignee_data, assignee_name)"
   ]
  }
 ],
 "metadata": {
  "kernelspec": {
   "display_name": "Python 3 (ipykernel)",
   "language": "python",
   "name": "python3"
  },
  "language_info": {
   "codemirror_mode": {
    "name": "ipython",
    "version": 3
   },
   "file_extension": ".py",
   "mimetype": "text/x-python",
   "name": "python",
   "nbconvert_exporter": "python",
   "pygments_lexer": "ipython3",
   "version": "3.9.16"
  }
 },
 "nbformat": 4,
 "nbformat_minor": 5
}
